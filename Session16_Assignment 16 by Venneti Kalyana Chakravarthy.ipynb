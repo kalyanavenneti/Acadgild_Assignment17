{
 "cells": [
  {
   "cell_type": "code",
   "execution_count": 2,
   "metadata": {},
   "outputs": [],
   "source": [
    "import pandas as pd\n",
    "import numpy as np\n",
    "import scipy as sci\n",
    "import matplotlib.pyplot as plt\n",
    "import math \n",
    "from scipy.stats import binom"
   ]
  },
  {
   "cell_type": "code",
   "execution_count": 10,
   "metadata": {},
   "outputs": [
    {
     "name": "stdout",
     "output_type": "stream",
     "text": [
      "Probality of incorrect answer of a single question: 0.75\n",
      "\n",
      "Probality of 5 incorrect answers: 3.4264958230778435e-06\n"
     ]
    }
   ],
   "source": [
    "# Question 1: A test is conducted which is consisting of 20 MCQs (multiple choices questions) with every MCQ having its four \n",
    "# options out of which only one is correct. Determine the probability that a person undertaking that test has answered \n",
    "# exactly 5 questions wrong.\n",
    "\n",
    "# Defining the variable\n",
    "total_no_of_question = 20\n",
    "\n",
    "# probality of incorrect answer of a one question\n",
    "prob_corr_answer = 1/4\n",
    "prob_incor_answer =(1 - prob_corr_answer)\n",
    "\n",
    "print('Probality of incorrect answer of a single question:', prob_incor_answer)\n",
    "# probality of incorrect answers for 5 questions\n",
    "p_five_incor_answer=binom.pmf(5,total_no_of_question,prob_incor_answer)\n",
    "print('\\nProbality of 5 incorrect answers:',p_five_incor_answer)"
   ]
  },
  {
   "cell_type": "code",
   "execution_count": 9,
   "metadata": {},
   "outputs": [
    {
     "name": "stdout",
     "output_type": "stream",
     "text": [
      "\n",
      " Probality of D exactly 5 times: 0.029531204310523224\n"
     ]
    }
   ],
   "source": [
    "# Question 2 :  A die marked A to E is rolled 50 times. Find the probability of getting a “D” exactly 5 times.\n",
    "\n",
    " # Defining the variable\n",
    "total_no_of_rolls = 50\n",
    "\n",
    "# probality of getting D in single roll\n",
    "Prob_D = 1/5 \n",
    "# probality of getting D in exactly 5 times\n",
    "Prob_five_D=binom.pmf(5,total_no_of_rolls,Prob_D)\n",
    "print('\\n Probality of D exactly 5 times:', Prob_five_D)"
   ]
  },
  {
   "cell_type": "code",
   "execution_count": 11,
   "metadata": {},
   "outputs": [
    {
     "name": "stdout",
     "output_type": "stream",
     "text": [
      "  Color  Probablity\n",
      "0    RR    0.133333\n",
      "1    RB    0.266667\n",
      "2    BR    0.266667\n",
      "3    BB    0.333333\n"
     ]
    },
    {
     "data": {
      "image/png": "[encoded data removed]",
      "text/plain": [
       "<Figure size 432x288 with 1 Axes>"
      ]
     },
     "metadata": {
      "needs_background": "light"
     },
     "output_type": "display_data"
    }
   ],
   "source": [
    "# Question 3: Two balls are drawn at random in succession without replacement from an urn containing 4 red balls and 6 black balls. \n",
    "# Find the probabilities of all the possible outcomes.\n",
    "\n",
    "# Define the variable \n",
    "total_no_of_balls = 10\n",
    "no_of_red_balls = 4\n",
    "no_of_black_balls = 6\n",
    "\n",
    "# letter Red = R, Letter Black = B\n",
    "\n",
    "# probability of first ball red = 4/10\n",
    "# probability of second ball red = 3/9 [when first ball is red]\n",
    "# probability of second ball red = 4/9 [when first ball is black]\n",
    "\n",
    "# probability of first ball black = 6/10\n",
    "# probability of second ball black = 5/9 [when first ball is black]\n",
    "# probability of second ball black = 6/9 [when first ball is red]\n",
    "\n",
    "probablity_RR = (4/10) * (3/9)\n",
    "probablity_RB = (4/10) * (6/9)\n",
    "probablity_BR = (6/10) * (4/9)\n",
    "probablity_BB = (6/10) * (5/9)\n",
    "\n",
    "lst_color=['RR','RB','BR','BB']\n",
    "\n",
    "df_probablity=pd.DataFrame({'Color':lst_color,\n",
    "                'Probablity':[probablity_RR,probablity_RB,probablity_BR,probablity_BB]})\n",
    "print(df_probablity)\n",
    "\n",
    "# Plot the Probabalitis distributions\n",
    "plt.bar(df_probablity.Color,df_probablity.Probablity,width=.3)\n",
    "plt.xlabel('Color of the Balls')\n",
    "plt.xticks(lst_color)\n",
    "plt.ylabel('Probabality')\n",
    "plt.title('\\nProbabality distribution Plot\\n')\n",
    "plt.show()"
   ]
  }
 ],
 "metadata": {
  "kernelspec": {
   "display_name": "Python 3",
   "language": "python",
   "name": "python3"
  },
  "language_info": {
   "codemirror_mode": {
    "name": "ipython",
    "version": 3
   },
   "file_extension": ".py",
   "mimetype": "text/x-python",
   "name": "python",
   "nbconvert_exporter": "python",
   "pygments_lexer": "ipython3",
   "version": "3.6.6"
  }
 },
 "nbformat": 4,
 "nbformat_minor": 2
}
